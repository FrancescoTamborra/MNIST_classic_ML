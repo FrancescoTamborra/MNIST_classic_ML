{
 "cells": [
  {
   "cell_type": "code",
   "execution_count": 1,
   "metadata": {},
   "outputs": [],
   "source": [
    "# k-NN is a very used algorithm which is not based on a statistical model (non-parametric).\n",
    "# It is called \"memory-based\" because it is based only on the training dataset.\n",
    "# And because it has to store in memory all training data it can be unconvenient for big size problems.\n",
    "# k is the number of neighbors chosen and it cannot be learned by the algo. It is an hyperparameter."
   ]
  },
  {
   "cell_type": "code",
   "execution_count": 2,
   "metadata": {},
   "outputs": [],
   "source": [
    "# We use the MNIST dataset (images of handwritten digits) which can load thanks to Scikit\n",
    "import numpy as np\n",
    "import matplotlib.pyplot as plt\n",
    "from sklearn.datasets import fetch_openml \n",
    "from sklearn.model_selection import train_test_split \n",
    "from sklearn import neighbors "
   ]
  },
  {
   "cell_type": "code",
   "execution_count": 3,
   "metadata": {},
   "outputs": [],
   "source": [
    "mnist = fetch_openml('mnist_784')"
   ]
  },
  {
   "cell_type": "code",
   "execution_count": 4,
   "metadata": {},
   "outputs": [
    {
     "name": "stdout",
     "output_type": "stream",
     "text": [
      "(70000, 784)\n",
      "(70000,)\n"
     ]
    }
   ],
   "source": [
    "print(mnist.data.shape) # data are 70k  28x28 (=784) pixels grayscale images (color from 0 to 255) \n",
    "print(mnist.target.shape) # target are the corresponding 70k annotation = digits from 0 to 9"
   ]
  },
  {
   "cell_type": "code",
   "execution_count": 5,
   "metadata": {},
   "outputs": [],
   "source": [
    "# Data has dimension 28x28x1 = 784.\n",
    "# If we had coloured images (R,G,B), dimension would have been 28x28x3 = 2352"
   ]
  },
  {
   "cell_type": "code",
   "execution_count": 6,
   "metadata": {},
   "outputs": [],
   "source": [
    "# 70k is a huge sample (especially for k-NN which is quite slow), therefore we take a \n",
    "# representative (i.e. aleatory) sample of 5k:\n",
    "sample = np.random.randint(70000, size=5000)\n",
    "data = mnist.data[sample]\n",
    "target = mnist.target[sample]\n",
    "# sampling randomly it is not the best way actually...we could have doubles and we should use the scikit \n",
    "# function sklearn.utils.resample (but for this exercise is fine)"
   ]
  },
  {
   "cell_type": "code",
   "execution_count": 7,
   "metadata": {},
   "outputs": [
    {
     "name": "stdout",
     "output_type": "stream",
     "text": [
      "(5000, 784)\n",
      "(5000,)\n"
     ]
    }
   ],
   "source": [
    "print(data.shape)\n",
    "print(target.shape)"
   ]
  },
  {
   "cell_type": "code",
   "execution_count": 8,
   "metadata": {},
   "outputs": [],
   "source": [
    "# We can now split our sample into training-set and testing-set (80% / 20%):\n",
    "xtrain, xtest, ytrain, ytest = train_test_split(data, target, train_size=0.8)"
   ]
  },
  {
   "cell_type": "code",
   "execution_count": 9,
   "metadata": {},
   "outputs": [
    {
     "name": "stdout",
     "output_type": "stream",
     "text": [
      "(4000, 784)\n",
      "(4000,)\n"
     ]
    }
   ],
   "source": [
    "print(xtrain.shape)\n",
    "print(ytrain.shape)"
   ]
  },
  {
   "cell_type": "code",
   "execution_count": 10,
   "metadata": {},
   "outputs": [
    {
     "data": {
      "text/plain": [
       "KNeighborsClassifier(algorithm='auto', leaf_size=30, metric='minkowski',\n",
       "                     metric_params=None, n_jobs=None, n_neighbors=3, p=2,\n",
       "                     weights='uniform')"
      ]
     },
     "execution_count": 10,
     "metadata": {},
     "output_type": "execute_result"
    }
   ],
   "source": [
    "# we can now create our model using 3 neighbors and train it (i.e. fit) on the training-set\n",
    "knn = neighbors.KNeighborsClassifier(n_neighbors=3)\n",
    "knn.fit(xtrain, ytrain) # the training is stored in memory"
   ]
  },
  {
   "cell_type": "code",
   "execution_count": 11,
   "metadata": {},
   "outputs": [
    {
     "name": "stdout",
     "output_type": "stream",
     "text": [
      "9\n"
     ]
    },
    {
     "data": {
      "text/plain": [
       "array(['9'], dtype=object)"
      ]
     },
     "execution_count": 11,
     "metadata": {},
     "output_type": "execute_result"
    }
   ],
   "source": [
    "# Let's try to make a prediction on one entry of the test-set:\n",
    "print(ytest[0])\n",
    "knn.predict([xtest[0]]) # predicts expect a list []"
   ]
  },
  {
   "cell_type": "code",
   "execution_count": 12,
   "metadata": {},
   "outputs": [
    {
     "name": "stdout",
     "output_type": "stream",
     "text": [
      "error = 7.499999999999996 %\n"
     ]
    }
   ],
   "source": [
    "# We can test on the whole testing-set using .score instead of .predict which return the percentage \n",
    "# of success between 0 and 1 by comparing with the target, ytest\n",
    "error = (1 - knn.score(xtest, ytest))*100\n",
    "print('error = {} %'.format(error))"
   ]
  },
  {
   "cell_type": "code",
   "execution_count": null,
   "metadata": {},
   "outputs": [],
   "source": [
    "# For k-NN the only improvement we can do is to find the best hyperparameter k.\n",
    "# We can loop on different k values and plot the error as a function of k:\n",
    "errors = []\n",
    "for k in range(2,15):\n",
    "    knn = neighbors.KNeighborsClassifier(k) # we create a model for every k\n",
    "    errors.append(100*(1 - knn.fit(xtrain, ytrain).score(xtest, ytest))) # we train and score at the same time\n",
    "plt.plot(range(2,15), errors, 'o-')\n",
    "plt.show()"
   ]
  },
  {
   "cell_type": "code",
   "execution_count": 15,
   "metadata": {},
   "outputs": [],
   "source": [
    "# we see that the best choice for the number of neighbors is k=3.\n",
    "# We can now see some predictions for the best model:\n",
    "knn = neighbors.KNeighborsClassifier(3)\n",
    "knn.fit(xtrain, ytrain) # we train the model\n",
    "\n",
    "# We store the predictions\n",
    "predicted = knn.predict(xtest)"
   ]
  },
  {
   "cell_type": "code",
   "execution_count": 60,
   "metadata": {},
   "outputs": [
    {
     "data": {
      "image/png": "[encoded data removed]",
      "text/plain": [
       "<Figure size 720x576 with 12 Axes>"
      ]
     },
     "metadata": {
      "needs_background": "light"
     },
     "output_type": "display_data"
    }
   ],
   "source": [
    "# We transform the data in form of images\n",
    "images = xtest.reshape((-1, 28, 28))\n",
    "\n",
    "# We randomly pick 12 images\n",
    "select = np.random.randint(images.shape[0], size=12)\n",
    "\n",
    "fig = plt.figure(figsize=(10,8))\n",
    "# We plot the images with their prediction\n",
    "for index, value in enumerate(select):\n",
    "    fig.add_subplot(3,4,index+1)\n",
    "    plt.axis('off')\n",
    "    plt.imshow(images[value],cmap=plt.cm.gray_r,interpolation=\"nearest\")\n",
    "    plt.title('Predicted: {}'.format(predicted[value]))\n"
   ]
  },
  {
   "cell_type": "code",
   "execution_count": 61,
   "metadata": {},
   "outputs": [
    {
     "data": {
      "image/png": "[encoded data removed]",
      "text/plain": [
       "<Figure size 720x576 with 12 Axes>"
      ]
     },
     "metadata": {
      "needs_background": "light"
     },
     "output_type": "display_data"
    }
   ],
   "source": [
    "# To better understand the weaknesses of the model we can also plot the bad predictions:\n",
    "# We collect the miscladdifications \n",
    "misclassified = (ytest != predicted)\n",
    "misclassified_images = images[misclassified,:,:]\n",
    "misclassified_predicted = predicted[misclassified]\n",
    "\n",
    "# we pick up a random sample\n",
    "select = np.random.randint(misclassified_images.shape[0], size=12)\n",
    "\n",
    "# we print the images and the (wrong) predictions associated\n",
    "fig = plt.figure(figsize=(10,8))\n",
    "for index, value in enumerate(select):\n",
    "    fig.add_subplot(3,4,index+1)\n",
    "    plt.axis('off')\n",
    "    plt.imshow(misclassified_images[value],cmap=plt.cm.gray_r,interpolation=\"nearest\")\n",
    "    plt.title('Predicted: {}'.format(misclassified_predicted[value]))"
   ]
  },
  {
   "cell_type": "code",
   "execution_count": null,
   "metadata": {},
   "outputs": [],
   "source": []
  }
 ],
 "metadata": {
  "kernelspec": {
   "display_name": "Python 3",
   "language": "python",
   "name": "python3"
  },
  "language_info": {
   "codemirror_mode": {
    "name": "ipython",
    "version": 3
   },
   "file_extension": ".py",
   "mimetype": "text/x-python",
   "name": "python",
   "nbconvert_exporter": "python",
   "pygments_lexer": "ipython3",
   "version": "3.7.3"
  }
 },
 "nbformat": 4,
 "nbformat_minor": 2
}
